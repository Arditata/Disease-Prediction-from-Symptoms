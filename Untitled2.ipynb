{
  "nbformat": 4,
  "nbformat_minor": 0,
  "metadata": {
    "colab": {
      "provenance": [],
      "authorship_tag": "ABX9TyMm5HM3zrjK6zjmGWOHkAeW",
      "include_colab_link": true
    },
    "kernelspec": {
      "name": "python3",
      "display_name": "Python 3"
    },
    "language_info": {
      "name": "python"
    }
  },
  "cells": [
    {
      "cell_type": "markdown",
      "metadata": {
        "id": "view-in-github",
        "colab_type": "text"
      },
      "source": [
        "<a href=\"https://colab.research.google.com/github/Arditata/Disease-Prediction-from-Symptoms/blob/master/Untitled2.ipynb\" target=\"_parent\"><img src=\"https://colab.research.google.com/assets/colab-badge.svg\" alt=\"Open In Colab\"/></a>"
      ]
    },
    {
      "cell_type": "code",
      "execution_count": 1,
      "metadata": {
        "colab": {
          "base_uri": "https://localhost:8080/"
        },
        "id": "myxMd8P60ZR7",
        "outputId": "3dd96208-ba7e-41b6-cd76-ac9791477f04"
      },
      "outputs": [
        {
          "output_type": "stream",
          "name": "stdout",
          "text": [
            "Masukkan sebuah bilangan: 15\n",
            "Bilangan 15 adalah bilangan positif.\n",
            "Bilangan 15 bukanlah bilangan prima.\n",
            "Bilangan dari 1 hingga 15 adalah:\n",
            "1 2 3 4 5 6 7 8 9 10 11 12 13 14 15 "
          ]
        }
      ],
      "source": [
        "def cek_prima(angka):\n",
        "    if angka <= 1:\n",
        "        return False\n",
        "    for i in range(2, angka):\n",
        "        if (angka % i) == 0:\n",
        "            return False\n",
        "    return True\n",
        "\n",
        "# Meminta input dari pengguna\n",
        "bilangan = int(input(\"Masukkan sebuah bilangan: \"))\n",
        "\n",
        "# Memeriksa apakah bilangan positif atau negatif\n",
        "if bilangan > 0:\n",
        "    print(\"Bilangan\", bilangan, \"adalah bilangan positif.\")\n",
        "elif bilangan < 0:\n",
        "    print(\"Bilangan\", bilangan, \"adalah bilangan negatif.\")\n",
        "else:\n",
        "    print(\"Bilangan\", bilangan, \"adalah nol.\")\n",
        "\n",
        "# Memanggil fungsi untuk mengecek bilangan prima\n",
        "if cek_prima(bilangan):\n",
        "    print(\"Bilangan\", bilangan, \"adalah bilangan prima.\")\n",
        "else:\n",
        "    print(\"Bilangan\", bilangan, \"bukanlah bilangan prima.\")\n",
        "\n",
        "# Menggunakan looping untuk mencetak bilangan dari 1 hingga bilangan yang dimasukkan\n",
        "print(\"Bilangan dari 1 hingga\", bilangan, \"adalah:\")\n",
        "for i in range(1, bilangan + 1):\n",
        "    print(i, end=\" \")"
      ]
    }
  ]
}